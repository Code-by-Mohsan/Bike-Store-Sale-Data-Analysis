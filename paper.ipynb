{
 "cells": [
  {
   "cell_type": "code",
   "execution_count": null,
   "metadata": {},
   "outputs": [],
   "source": [
    "Using the \"BikeStoresales_data.csv\" dataset, answer the following questions by selecting the appropriate analysis techniques and interpreting the results.\n",
    "1. How many sales per month in the year (2013 & 2014) do we have?\n",
    "2. Which country has the most sales quantity of sales?\n",
    "3. How many orders were made in each region (state) of France?\n",
    "4. Get the top-5 sales with the highest revenue\n",
    "5. Are all the age groups providing equal average profit? apply the appropriate inferential analysis and interpret the results.\n",
    "6. Use 80% of the data, to build a regression model for predicting the profit based on features such as order quantity, age group, and product category.\n",
    "7. Use the rest of the data set to report the performance (R2, RMSE, etc.) of the regression model for predicting profit."
   ]
  },
  {
   "cell_type": "code",
   "execution_count": null,
   "metadata": {},
   "outputs": [],
   "source": []
  }
 ],
 "metadata": {
  "language_info": {
   "name": "python"
  }
 },
 "nbformat": 4,
 "nbformat_minor": 2
}
